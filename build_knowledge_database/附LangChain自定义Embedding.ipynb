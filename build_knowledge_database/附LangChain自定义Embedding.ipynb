{
 "cells": [
  {
   "metadata": {},
   "cell_type": "markdown",
   "source": [
    "# Embedding封装讲解\n",
    "LangChain 为基于 LLM 开发自定义应用提供了高效的开发框架，便于开发者迅速地激发 LLM 的强大能力，搭建 LLM 应用。LangChain 也同样支持多种大模型的 Embeddings，内置了 OpenAI、LLAMA 等大模型 Embeddings 的调用接口。但是，LangChain 并没有内置所有大模型，它通过允许用户自定义 Embeddings 类型，来提供强大的可扩展性。\n",
    "\n",
    "在本部分，我们以智谱 AI 为例，讲述如何基于 LangChain 自定义 Embeddings。\n",
    "\n",
    "本部分涉及相对更多 LangChain、大模型调用的技术细节，有精力同学可以学习部署，如无精力可以直接使用后续代码来支持调用。\n",
    "\n",
    "要实现自定义 Embeddings，需要定义一个自定义类继承自 LangChain 的 Embeddings 基类，然后定义两个函数：① embed_query 方法，用于对单个字符串（query）进行 embedding；②embed_documents 方法，用于对字符串列表（documents）进行 embedding。\n",
    "\n",
    "首先我们导入所需的第三方库："
   ],
   "id": "ebb31fe20c097a52"
  },
  {
   "metadata": {
    "ExecuteTime": {
     "end_time": "2025-06-16T11:07:16.680423Z",
     "start_time": "2025-06-16T11:07:16.474340Z"
    }
   },
   "cell_type": "code",
   "source": [
    "from typing import List\n",
    "from langchain_core.embeddings import Embeddings\n",
    "\n",
    "class ZhipuAIEmbedding(Embeddings):\n",
    "    \"\"\"Zhipuai Embeddings' embedding models\"\"\"\n",
    "    def __init__(self):\n",
    "        \"\"\"\n",
    "        实例化ZhipuAI为values[\"client\"]\n",
    "        Args:\n",
    "            values(Dict):包含配置信息的字典，必须包含client的字段\n",
    "\n",
    "        Returns:\n",
    "            values(Dict):包含配置信息的字典。如果环境中有zhipuai库，则将返回实例化的ZhipuAI类；否则将报错\n",
    "        \"\"\"\n",
    "        from zhipuai import ZhipuAI\n",
    "        self.client = ZhipuAI()"
   ],
   "id": "b57dfe712f078023",
   "outputs": [],
   "execution_count": 2
  },
  {
   "metadata": {},
   "cell_type": "markdown",
   "source": "embed_documents 是对字符串列表（List[str]）计算embedding 的方法，这里我们重写该方法，调用验证环境时实例化的`ZhipuAI`来 调用远程 API 并返回 embedding 结果。",
   "id": "733f125975eb1083"
  },
  {
   "metadata": {
    "ExecuteTime": {
     "end_time": "2025-06-16T11:07:18.594613Z",
     "start_time": "2025-06-16T11:07:18.590809Z"
    }
   },
   "cell_type": "code",
   "source": [
    "    def embed_documents(self, texts: List[str]) -> List[List[float]]:\n",
    "        \"\"\"\n",
    "        生成输入文本列表的 embedding.\n",
    "        Args:\n",
    "            texts (List[str]): 要生成 embedding 的文本列表.\n",
    "\n",
    "        Returns:\n",
    "            List[List[float]]: 输入列表中每个文档的 embedding 列表。每个 embedding 都表示为一个浮点值列表。\n",
    "        \"\"\"\n",
    "        embeddings = self.client.embeddings.create(\n",
    "            model=\"embedding-3\",\n",
    "            input=texts\n",
    "        )\n",
    "        return [embeddings.embedding for embeddings in embeddings.data]"
   ],
   "id": "96163aa14ab3040a",
   "outputs": [],
   "execution_count": 3
  },
  {
   "metadata": {},
   "cell_type": "markdown",
   "source": "`embed_query` 是对单个文本（str）计算 embedding 的方法，这里我们调用刚才定义好的`embed_documents`方法，并返回第一个子列表即可。",
   "id": "5b789e833f00f39e"
  },
  {
   "metadata": {},
   "cell_type": "code",
   "outputs": [],
   "execution_count": null,
   "source": [
    "    def embed_query(self, text: str) -> List[float]:\n",
    "        \"\"\"\n",
    "        生成输入文本的 embedding.\n",
    "\n",
    "        Args:\n",
    "            texts (str): 要生成 embedding 的文本.\n",
    "\n",
    "        Return:\n",
    "            embeddings (List[float]): 输入文本的 embedding，一个浮点数值列表.\n",
    "        \"\"\"\n",
    "\n",
    "        return self.embed_documents([text])[0]"
   ],
   "id": "a3e3c2d1792d78ca"
  }
 ],
 "metadata": {
  "kernelspec": {
   "display_name": "Python 3",
   "language": "python",
   "name": "python3"
  },
  "language_info": {
   "codemirror_mode": {
    "name": "ipython",
    "version": 2
   },
   "file_extension": ".py",
   "mimetype": "text/x-python",
   "name": "python",
   "nbconvert_exporter": "python",
   "pygments_lexer": "ipython2",
   "version": "2.7.6"
  }
 },
 "nbformat": 4,
 "nbformat_minor": 5
}
